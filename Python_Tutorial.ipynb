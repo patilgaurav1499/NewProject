{
  "nbformat": 4,
  "nbformat_minor": 0,
  "metadata": {
    "colab": {
      "provenance": [],
      "authorship_tag": "ABX9TyPUjKBbjH5/VEoB95Gq7TAw",
      "include_colab_link": true
    },
    "kernelspec": {
      "name": "python3",
      "display_name": "Python 3"
    },
    "language_info": {
      "name": "python"
    }
  },
  "cells": [
    {
      "cell_type": "markdown",
      "metadata": {
        "id": "view-in-github",
        "colab_type": "text"
      },
      "source": [
        "<a href=\"https://colab.research.google.com/github/patilgaurav1499/NewProject/blob/master/Python_Tutorial.ipynb\" target=\"_parent\"><img src=\"https://colab.research.google.com/assets/colab-badge.svg\" alt=\"Open In Colab\"/></a>"
      ]
    },
    {
      "cell_type": "markdown",
      "source": [
        "##Anonymous functions in python i.e Lambdas"
      ],
      "metadata": {
        "id": "5GjY4AxKuBRv"
      }
    },
    {
      "cell_type": "code",
      "source": [
        "##Functions are also an object in python"
      ],
      "metadata": {
        "id": "A1wmeRD9shGw"
      },
      "execution_count": null,
      "outputs": []
    },
    {
      "cell_type": "code",
      "source": [
        "cube = lambda a:a*a*a\n",
        "cube(3)"
      ],
      "metadata": {
        "colab": {
          "base_uri": "https://localhost:8080/"
        },
        "id": "6ANX3tohshX3",
        "outputId": "86fdec39-cc10-4bbf-d671-16255263d768"
      },
      "execution_count": 2,
      "outputs": [
        {
          "output_type": "execute_result",
          "data": {
            "text/plain": [
              "27"
            ]
          },
          "metadata": {},
          "execution_count": 2
        }
      ]
    },
    {
      "cell_type": "code",
      "source": [
        "addition =lambda a,b: a+b\n",
        "addition(56,79)"
      ],
      "metadata": {
        "colab": {
          "base_uri": "https://localhost:8080/"
        },
        "id": "Dy8f8pCGshgN",
        "outputId": "c287b0c3-3300-4a0d-d9d0-7f6228e6cca6"
      },
      "execution_count": 3,
      "outputs": [
        {
          "output_type": "execute_result",
          "data": {
            "text/plain": [
              "135"
            ]
          },
          "metadata": {},
          "execution_count": 3
        }
      ]
    },
    {
      "cell_type": "markdown",
      "source": [
        "##Filter() Map() Reduce()"
      ],
      "metadata": {
        "id": "d28Ze_9Bt5tM"
      }
    },
    {
      "cell_type": "code",
      "source": [
        "def is_even(n):\n",
        "  if(n%2==0):\n",
        "    return True\n",
        "  else:\n",
        "    return False\n",
        "\n",
        "lst= [2,5,4,3,8,9]\n",
        "even = list(filter(is_even,lst))   ##Filter is used as Filter( Function, List)\n",
        "even"
      ],
      "metadata": {
        "colab": {
          "base_uri": "https://localhost:8080/"
        },
        "id": "5yBEt_ZUt4lz",
        "outputId": "bcb850a1-607f-4503-acb6-0687af454d67"
      },
      "execution_count": 7,
      "outputs": [
        {
          "output_type": "execute_result",
          "data": {
            "text/plain": [
              "[2, 4, 8]"
            ]
          },
          "metadata": {},
          "execution_count": 7
        }
      ]
    },
    {
      "cell_type": "code",
      "source": [
        "lst= [2,5,4,3,8,9]\n",
        "even = list(filter(lambda n:n%2==0,lst))   ##Filter is used as Filter( Function, List)\n",
        "even"
      ],
      "metadata": {
        "colab": {
          "base_uri": "https://localhost:8080/"
        },
        "id": "d1-RaU88t4pa",
        "outputId": "dc7c6a6d-9dca-444b-c715-7b5ce15f6870"
      },
      "execution_count": 8,
      "outputs": [
        {
          "output_type": "execute_result",
          "data": {
            "text/plain": [
              "[2, 4, 8]"
            ]
          },
          "metadata": {},
          "execution_count": 8
        }
      ]
    },
    {
      "cell_type": "code",
      "source": [
        "mapping = list(map(lambda n:n+2,even))\n",
        "mapping"
      ],
      "metadata": {
        "colab": {
          "base_uri": "https://localhost:8080/"
        },
        "id": "hp470Hd7t4tQ",
        "outputId": "746601fb-28f6-413a-ad53-3595dc8f80df"
      },
      "execution_count": 11,
      "outputs": [
        {
          "output_type": "execute_result",
          "data": {
            "text/plain": [
              "[4, 6, 10]"
            ]
          },
          "metadata": {},
          "execution_count": 11
        }
      ]
    },
    {
      "cell_type": "code",
      "source": [
        "from functools import reduce\n",
        "sum =reduce(lambda a,b:a+b, lst)     ##sum of all elements in list\n",
        "sum"
      ],
      "metadata": {
        "colab": {
          "base_uri": "https://localhost:8080/"
        },
        "id": "NGI2YFE4t4wI",
        "outputId": "1259fa34-beb2-4bbd-95e6-82283c4c8227"
      },
      "execution_count": 12,
      "outputs": [
        {
          "output_type": "execute_result",
          "data": {
            "text/plain": [
              "31"
            ]
          },
          "metadata": {},
          "execution_count": 12
        }
      ]
    },
    {
      "cell_type": "code",
      "source": [
        "product = reduce (lambda a,b:a*b, lst)  ##multiplication of all elements in list\n",
        "product"
      ],
      "metadata": {
        "colab": {
          "base_uri": "https://localhost:8080/"
        },
        "id": "Qw7cPICWt4zM",
        "outputId": "f1f3e022-40d3-4645-ea03-07662e37f8e8"
      },
      "execution_count": 13,
      "outputs": [
        {
          "output_type": "execute_result",
          "data": {
            "text/plain": [
              "8640"
            ]
          },
          "metadata": {},
          "execution_count": 13
        }
      ]
    },
    {
      "cell_type": "markdown",
      "source": [
        "##Decorators in python\n"
      ],
      "metadata": {
        "id": "mDkqlxI_0O7E"
      }
    },
    {
      "cell_type": "markdown",
      "source": [
        "In python we can write function inside a function"
      ],
      "metadata": {
        "id": "u7vcjUc807GG"
      }
    },
    {
      "cell_type": "code",
      "source": [
        "def div(a,b):\n",
        "  return a/b\n",
        "\n",
        "def external(func):\n",
        "  def inner(a,b):\n",
        "    if a<b:\n",
        "      a,b=b,a\n",
        "    return func(a,b)\n",
        "  return inner\n",
        "\n",
        "div1=external(div)\n",
        "div1(9,90)"
      ],
      "metadata": {
        "colab": {
          "base_uri": "https://localhost:8080/"
        },
        "id": "5jHoXwwUt42V",
        "outputId": "140e25c5-3e0a-4bf5-a554-5e8b69b625eb"
      },
      "execution_count": 14,
      "outputs": [
        {
          "output_type": "execute_result",
          "data": {
            "text/plain": [
              "10.0"
            ]
          },
          "metadata": {},
          "execution_count": 14
        }
      ]
    },
    {
      "cell_type": "code",
      "source": [],
      "metadata": {
        "id": "1UeV6rgm287j"
      },
      "execution_count": null,
      "outputs": []
    },
    {
      "cell_type": "markdown",
      "source": [
        "modules\n"
      ],
      "metadata": {
        "id": "f-hUjOvK2-ia"
      }
    }
  ]
}